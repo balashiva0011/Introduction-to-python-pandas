{
  "nbformat": 4,
  "nbformat_minor": 0,
  "metadata": {
    "colab": {
      "provenance": [],
      "authorship_tag": "ABX9TyPmV48/wlCUn+wH7XeI2aHe",
      "include_colab_link": true
    },
    "kernelspec": {
      "name": "python3",
      "display_name": "Python 3"
    },
    "language_info": {
      "name": "python"
    }
  },
  "cells": [
    {
      "cell_type": "markdown",
      "metadata": {
        "id": "view-in-github",
        "colab_type": "text"
      },
      "source": [
        "<a href=\"https://colab.research.google.com/github/balashiva0011/Introduction-to-python-pandas/blob/main/untitled.ipynb\" target=\"_parent\"><img src=\"https://colab.research.google.com/assets/colab-badge.svg\" alt=\"Open In Colab\"/></a>"
      ]
    },
    {
      "cell_type": "markdown",
      "source": [
        "**Mini Project**\n",
        "\n",
        "Tempearture Data analysis\n",
        "Generate random Temperature data for 30 days and calculate the mean, Median, and standard deviations of the Tempearture over the month. find the days with  tempearture above the  average."
      ],
      "metadata": {
        "id": "6ZVmifjNHYwb"
      }
    },
    {
      "cell_type": "code",
      "source": [
        "import numpy as np\n"
      ],
      "metadata": {
        "id": "UjHgbC-TI0sh"
      },
      "execution_count": 1,
      "outputs": []
    },
    {
      "cell_type": "code",
      "source": [
        "# 30 day of random values\n",
        "weather=np.random.uniform(22,38,30)\n",
        "weather"
      ],
      "metadata": {
        "colab": {
          "base_uri": "https://localhost:8080/"
        },
        "id": "-1DJuh1rIitp",
        "outputId": "500584aa-cf1f-4938-8afc-69af632c863b"
      },
      "execution_count": 5,
      "outputs": [
        {
          "output_type": "execute_result",
          "data": {
            "text/plain": [
              "array([34.24359751, 30.83176909, 33.50912453, 37.43737247, 30.10446809,\n",
              "       24.120544  , 24.77587975, 22.64652123, 26.09088535, 34.09311141,\n",
              "       30.67417634, 31.39390446, 29.95729935, 28.90354103, 27.42441529,\n",
              "       33.62525954, 36.138396  , 37.89638914, 34.18004539, 27.97630974,\n",
              "       34.39499831, 27.0450362 , 35.87416926, 29.21213733, 35.66224662,\n",
              "       36.66316011, 22.69247519, 37.20409297, 33.42175108, 32.26287166])"
            ]
          },
          "metadata": {},
          "execution_count": 5
        }
      ]
    },
    {
      "cell_type": "code",
      "source": [
        "w_mean = np.mean(weather)\n",
        "print(w_mean)"
      ],
      "metadata": {
        "colab": {
          "base_uri": "https://localhost:8080/"
        },
        "id": "P__yI1urI7IM",
        "outputId": "dad90ebb-821b-4f3d-f061-c9f299883ff0"
      },
      "execution_count": 7,
      "outputs": [
        {
          "output_type": "stream",
          "name": "stdout",
          "text": [
            "31.34853161473285\n"
          ]
        }
      ]
    },
    {
      "cell_type": "code",
      "source": [
        "w_median=np.median(weather)\n",
        "print(w_median)"
      ],
      "metadata": {
        "colab": {
          "base_uri": "https://localhost:8080/"
        },
        "id": "su3H7pQFJziJ",
        "outputId": "90ecb7c2-4bb9-49e6-a75e-08759e391ac2"
      },
      "execution_count": 9,
      "outputs": [
        {
          "output_type": "stream",
          "name": "stdout",
          "text": [
            "31.82838806411017\n"
          ]
        }
      ]
    },
    {
      "cell_type": "code",
      "source": [
        "w_std=np.std(weather)\n",
        "print(w_std)"
      ],
      "metadata": {
        "colab": {
          "base_uri": "https://localhost:8080/"
        },
        "id": "M9oY8OquM6aS",
        "outputId": "8a864582-3e73-4b1d-b7de-a3e502ed40c5"
      },
      "execution_count": 10,
      "outputs": [
        {
          "output_type": "stream",
          "name": "stdout",
          "text": [
            "4.421503033011541\n"
          ]
        }
      ]
    },
    {
      "cell_type": "code",
      "source": [
        "hot_days = weather[weather > w_mean]\n",
        "hot_days"
      ],
      "metadata": {
        "colab": {
          "base_uri": "https://localhost:8080/"
        },
        "id": "FY5xRAHONCPt",
        "outputId": "dd5fb50f-ad7e-401b-dc78-7ae044fb5f64"
      },
      "execution_count": 11,
      "outputs": [
        {
          "output_type": "execute_result",
          "data": {
            "text/plain": [
              "array([34.24359751, 33.50912453, 37.43737247, 34.09311141, 31.39390446,\n",
              "       33.62525954, 36.138396  , 37.89638914, 34.18004539, 34.39499831,\n",
              "       35.87416926, 35.66224662, 36.66316011, 37.20409297, 33.42175108,\n",
              "       32.26287166])"
            ]
          },
          "metadata": {},
          "execution_count": 11
        }
      ]
    }
  ]
}