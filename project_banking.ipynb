{
  "nbformat": 4,
  "nbformat_minor": 0,
  "metadata": {
    "colab": {
      "provenance": [],
      "authorship_tag": "ABX9TyODYAj1PnlH4fatzoVEt6u8",
      "include_colab_link": true
    },
    "kernelspec": {
      "name": "python3",
      "display_name": "Python 3"
    },
    "language_info": {
      "name": "python"
    }
  },
  "cells": [
    {
      "cell_type": "markdown",
      "metadata": {
        "id": "view-in-github",
        "colab_type": "text"
      },
      "source": [
        "<a href=\"https://colab.research.google.com/github/balashiva0011/Introduction-to-python-pandas/blob/main/project_banking.ipynb\" target=\"_parent\"><img src=\"https://colab.research.google.com/assets/colab-badge.svg\" alt=\"Open In Colab\"/></a>"
      ]
    },
    {
      "cell_type": "code",
      "execution_count": 3,
      "metadata": {
        "colab": {
          "base_uri": "https://localhost:8080/"
        },
        "id": "AHOKZsb3RbGQ",
        "outputId": "a4c973c2-dab3-41b8-fef0-308ce016230b"
      },
      "outputs": [
        {
          "output_type": "stream",
          "name": "stdout",
          "text": [
            "Your account balance is 15000\n",
            "None\n",
            "Your account is being debited by 10000\n",
            "Your account balance is 5000\n",
            "Your account is being credited by 2000\n",
            "Your account balance is 7000\n",
            "5000\n"
          ]
        }
      ],
      "source": [
        "## Mini Project: Banking Application\n",
        "## Task: Create a banking application class called Account that has the following features:\n",
        "\n",
        "## Properties:\n",
        "\n",
        "#account_no: The unique account number.\n",
        "##balance: The current balance of the account.\n",
        "#Methods:\n",
        "\n",
        "#debit(amount): Deducts the specified amount from the balance and prints a message indicating the transaction and the new balance. If the debit amount exceeds the balance, it should print an insufficient funds message.\n",
        "#credit(amount): Adds the specified amount to the balance and prints a message indicating the transaction and the new balance.\n",
        "#get_balance(): Returns the current balance and optionally prints a message showing the balance.\n",
        "\n",
        "# Banking applications\n",
        "class Account:\n",
        "    def __init__(self, account_no, balance=0):\n",
        "        self.account_no = account_no\n",
        "        self.balance = balance\n",
        "\n",
        "\n",
        "        # print(f\"Current balance is {balance}\")\n",
        "\n",
        "    # medthod 1 debit method\n",
        "    def debit(self, amount):\n",
        "        self.balance -= amount\n",
        "        print(f\"Your account is being debited by {amount}\")\n",
        "        print(f\"Your account balance is {self.balance}\")\n",
        "\n",
        "    # credit method\n",
        "    def credit(self, amount):\n",
        "        self.balance += amount\n",
        "        print(f\"Your account is being credited by {amount}\")\n",
        "        print(f\"Your account balance is {self.balance}\")\n",
        "\n",
        "    def get_balance(self):\n",
        "        print(f\"Your account balance is {self.balance}\")\n",
        "\n",
        "# this object\n",
        "acc1 = Account(101, 15000)\n",
        "acc2 = Account(102,5000)\n",
        "acc3 = Account(103, 11000)\n",
        "\n",
        "# transactions\n",
        "print(acc1.get_balance())\n",
        "\n",
        "# debit 10000\n",
        "acc1.debit(10000)\n",
        "acc1.credit(2000)\n",
        "\n",
        "\n",
        "# check balance\n",
        "print(acc2.balance)\n",
        "# end"
      ]
    }
  ]
}