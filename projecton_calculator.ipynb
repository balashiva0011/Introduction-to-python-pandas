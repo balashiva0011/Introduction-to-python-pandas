{
  "nbformat": 4,
  "nbformat_minor": 0,
  "metadata": {
    "colab": {
      "provenance": [],
      "authorship_tag": "ABX9TyNPLb+I9Tti3JfL53nevNx8",
      "include_colab_link": true
    },
    "kernelspec": {
      "name": "python3",
      "display_name": "Python 3"
    },
    "language_info": {
      "name": "python"
    }
  },
  "cells": [
    {
      "cell_type": "markdown",
      "metadata": {
        "id": "view-in-github",
        "colab_type": "text"
      },
      "source": [
        "<a href=\"https://colab.research.google.com/github/balashiva0011/Introduction-to-python-pandas/blob/main/projecton_calculator.ipynb\" target=\"_parent\"><img src=\"https://colab.research.google.com/assets/colab-badge.svg\" alt=\"Open In Colab\"/></a>"
      ]
    },
    {
      "cell_type": "code",
      "source": [
        "## \"\"\"The user enter two num and operators (as string. e.g.,'add','multiply').\n",
        "## based on the input, call different functions to perform the operations and return the values\"\"\"\n",
        "\n",
        "def add(num1 , num2 ):\n",
        "  return num1 +num2\n",
        "\n",
        "def sub(num1 , num2):\n",
        "  return num1-num2\n",
        "\n",
        "def mul(num1 , num2 ):\n",
        "  return num1 * num2\n",
        "\n",
        "def div(num , num2):\n",
        "  return num1 / num2\n",
        "\n",
        "\n",
        "def calculator(num1, num2, operations):\n",
        "\n",
        "    if operator == 'add':\n",
        "      result = add(num1 , num2)\n",
        "    elif operator == 'sub':\n",
        "      result = sub(num1,num2)\n",
        "    elif operator == 'mul':\n",
        "      result = mul(num1,num2)\n",
        "    elif operator == 'div':\n",
        "      result = div(num1,num2)\n",
        "    else :\n",
        "      print(\"please choose the correct operator add , sub, mul, div\")\n",
        "    return print(f\"{num1}  {num2} = {result}\")\n",
        "\n",
        "num1= int(input(\"please enter number 1 : \"))\n",
        "num2= int(input(\"please enter number 2 : \"))\n",
        "operations=input(\"please enter operator : \")\n",
        "result = calculator(num1,num2,operations)\n",
        "result"
      ],
      "metadata": {
        "colab": {
          "base_uri": "https://localhost:8080/"
        },
        "id": "VJja018ft_Gq",
        "outputId": "b04f9755-37ff-49d1-eb4b-f1f81fab5975"
      },
      "execution_count": 20,
      "outputs": [
        {
          "output_type": "stream",
          "name": "stdout",
          "text": [
            "please enter number 1 : 5\n",
            "please enter number 2 : 10\n",
            "please enter operator : mul\n",
            "5  10 = 15\n"
          ]
        }
      ]
    }
  ]
}