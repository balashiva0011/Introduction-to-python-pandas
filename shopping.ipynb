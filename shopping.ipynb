{
  "nbformat": 4,
  "nbformat_minor": 0,
  "metadata": {
    "colab": {
      "provenance": [],
      "authorship_tag": "ABX9TyM0V3+ADi9yA3jE+Vdu2DYx",
      "include_colab_link": true
    },
    "kernelspec": {
      "name": "python3",
      "display_name": "Python 3"
    },
    "language_info": {
      "name": "python"
    }
  },
  "cells": [
    {
      "cell_type": "markdown",
      "metadata": {
        "id": "view-in-github",
        "colab_type": "text"
      },
      "source": [
        "<a href=\"https://colab.research.google.com/github/balashiva0011/Introduction-to-python-pandas/blob/main/shopping.ipynb\" target=\"_parent\"><img src=\"https://colab.research.google.com/assets/colab-badge.svg\" alt=\"Open In Colab\"/></a>"
      ]
    },
    {
      "cell_type": "code",
      "execution_count": 3,
      "metadata": {
        "colab": {
          "base_uri": "https://localhost:8080/"
        },
        "id": "2zKstk3uGei7",
        "outputId": "8ea3b6e3-01d0-4d44-cf49-3558b2ddabaa"
      },
      "outputs": [
        {
          "output_type": "stream",
          "name": "stdout",
          "text": [
            "Please enter details separating by comma (product_name,price,qty :)pizza,100,2\n",
            "Thank you for providing the details your cart info \n",
            "Product_name:pizza \n",
            "Qty:#2 \n",
            "Total cart amt: $200 \n",
            "Discount amt:$0 \n",
            "Net Pay: $200\n"
          ]
        }
      ],
      "source": [
        "\"\"\"\n",
        "2. Shopping Discount System:\n",
        "- Ask user the product name,\n",
        "- ask the price and\n",
        "- quantity check\n",
        "if the total is more than certail threshold = 1000--25%, 500, 15%, if qty > 3 5%\n",
        "offer x amount of on the total cart discount = 25%\n",
        "and print discounted amount and net amount to be paid!\"\"\"\n",
        "\n",
        "\n",
        "\n",
        "# collecting inputs\n",
        "product_details = input(\"Please enter details separating by comma (product_name,price,qty :)\").strip().split(\",\")\n",
        "\n",
        "# data cleaning\n",
        "# price datatypes to int\n",
        "price = int(product_details[1])\n",
        "\n",
        "# converting qty datatypes to int\n",
        "qty = int(product_details[-1])\n",
        "\n",
        "# total cart value\n",
        "t = price * qty\n",
        "total_value = price * qty\n",
        "# total_value = 1200\n",
        "\n",
        "if total_value > 1000:\n",
        "    total_value -= total_value * 0.25\n",
        "    print(f\"Thank you for providing the details your cart info \\nProduct_name:{product_details[0]} \\nQty:#{qty} \\nTotal cart amt: ${t} \\nDiscount amt:${t*0.25} \\nNet Pay: ${total_value}\")\n",
        "\n",
        "elif total_value > 500:\n",
        "    total_value -= total_value * 0.15\n",
        "    print(f\"Thank you for providing the details your cart info \\nProduct_name:{product_details[0]} \\nQty:#{qty} \\nTotal cart amt: ${t} \\nDiscount amt:${t*0.15} \\nNet Pay: ${total_value}\")\n",
        "\n",
        "elif qty > 3:\n",
        "    total_value -= total_value * 0.05\n",
        "    print(f\"Thank you for providing the details your cart info \\nProduct_name:{product_details[0]} \\nQty:#{qty} \\nTotal cart amt: ${t} \\nDiscount amt:${t*0.05} \\nNet Pay: ${total_value}\")\n",
        "\n",
        "else:\n",
        "    print(f\"Thank you for providing the details your cart info \\nProduct_name:{product_details[0]} \\nQty:#{qty} \\nTotal cart amt: ${t} \\nDiscount amt:${0} \\nNet Pay: ${total_value}\")"
      ]
    }
  ]
}