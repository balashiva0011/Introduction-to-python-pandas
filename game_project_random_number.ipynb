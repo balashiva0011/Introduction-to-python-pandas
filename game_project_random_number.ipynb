{
  "nbformat": 4,
  "nbformat_minor": 0,
  "metadata": {
    "colab": {
      "provenance": [],
      "authorship_tag": "ABX9TyMTGYntf69Wt62hUCc7Hw25",
      "include_colab_link": true
    },
    "kernelspec": {
      "name": "python3",
      "display_name": "Python 3"
    },
    "language_info": {
      "name": "python"
    }
  },
  "cells": [
    {
      "cell_type": "markdown",
      "metadata": {
        "id": "view-in-github",
        "colab_type": "text"
      },
      "source": [
        "<a href=\"https://colab.research.google.com/github/balashiva0011/Introduction-to-python-pandas/blob/main/game_project_random_number.ipynb\" target=\"_parent\"><img src=\"https://colab.research.google.com/assets/colab-badge.svg\" alt=\"Open In Colab\"/></a>"
      ]
    },
    {
      "cell_type": "code",
      "execution_count": 1,
      "metadata": {
        "colab": {
          "base_uri": "https://localhost:8080/"
        },
        "id": "18a5gLGCU8do",
        "outputId": "3bef916b-e6e2-44d4-dd8d-e8a93148ac02"
      },
      "outputs": [
        {
          "output_type": "stream",
          "name": "stdout",
          "text": [
            "Welcome to the number guessing game\n",
            "I am thinking a number between 1 to 20. You have 5 attempt to guess it correctly if you win i will give $1000\n",
            "please guess the number :12\n",
            "Your number is too high\n",
            "Your attemp left 4\n",
            "please guess the number :15\n",
            "Your number is too high\n",
            "Your attemp left 3\n",
            "please guess the number :4\n",
            "Your number is too high\n",
            "Your attemp left 2\n",
            "please guess the number :10\n",
            "Your number is too high\n",
            "Your attemp left 1\n",
            "please guess the number :4\n",
            "Your number is too high\n",
            "Your attemp left 0\n",
            "You are attemp finished! You lost the game. \n",
            " The correct number was 3\n"
          ]
        }
      ],
      "source": [
        "\"\"\"\n",
        "### Mini Project\n",
        "\n",
        "Project: Number Guessing Game\n",
        "\n",
        "Project Description:\n",
        "\n",
        "The program will randomly select a number between 1 and 20. The player will have a limited number\n",
        "of chances (let’s say 5) to guess the number. After each guess, the program will tell the player\n",
        "whether their guess is too high or too low. If the player guesses correctly within the allowed\n",
        "number of attempts, they win. Otherwise, the game ends and the player loses.\n",
        "\"\"\"\n",
        "\n",
        "\n",
        "# importing dependencies\n",
        "\n",
        "import random\n",
        "\n",
        "correct_number = random.randint(1, 20)\n",
        "\n",
        "print(\"Welcome to the number guessing game\")\n",
        "print(\"I am thinking a number between 1 to 20. You have 5 attempt to guess it correctly if you win i will give $1000\")\n",
        "\n",
        "\n",
        "attemp = 5\n",
        "\n",
        "while attemp > 0:\n",
        "\n",
        "    # collecting numbers\n",
        "    num = int(input(\"please guess the number :\"))\n",
        "\n",
        "    if num == correct_number:\n",
        "        print(\"Congrats you won $1000\")\n",
        "        break\n",
        "\n",
        "    elif num > correct_number:\n",
        "        print(\"Your number is too high\")\n",
        "\n",
        "    else:\n",
        "        print(\"Your number is low\")\n",
        "\n",
        "    # reducing the attemp\n",
        "    attemp -=1\n",
        "\n",
        "    print(f\"Your attemp left {attemp}\")\n",
        "\n",
        "    if attemp == 0:\n",
        "        print(f\"You are attemp finished! You lost the game. \\n The correct number was {correct_number}\")\n",
        "\n",
        "    # end\n",
        ""
      ]
    }
  ]
}