{
  "nbformat": 4,
  "nbformat_minor": 0,
  "metadata": {
    "colab": {
      "provenance": [],
      "mount_file_id": "1yqDCxmZ0KRL0J-t5lBBsws4YfKdLUe0H",
      "authorship_tag": "ABX9TyMYhFLYOxairywqcjR1zNiY",
      "include_colab_link": true
    },
    "kernelspec": {
      "name": "python3",
      "display_name": "Python 3"
    },
    "language_info": {
      "name": "python"
    }
  },
  "cells": [
    {
      "cell_type": "markdown",
      "metadata": {
        "id": "view-in-github",
        "colab_type": "text"
      },
      "source": [
        "<a href=\"https://colab.research.google.com/github/balashiva0011/Introduction-to-python-pandas/blob/main/Modules_and_Packages.ipynb\" target=\"_parent\"><img src=\"https://colab.research.google.com/assets/colab-badge.svg\" alt=\"Open In Colab\"/></a>"
      ]
    },
    {
      "cell_type": "code",
      "source": [
        "## Modules and Packages\n",
        "\n",
        "# math\n",
        "# datetime\n",
        "# os module\n",
        "# random\n",
        "# time\n",
        "# custom module\n",
        "# math modules\n",
        "# Get rootsqure of number\n",
        "# Get celing of number"
      ],
      "metadata": {
        "id": "eZ2IzB5qLEny"
      },
      "execution_count": 3,
      "outputs": []
    },
    {
      "cell_type": "code",
      "source": [
        "import math"
      ],
      "metadata": {
        "id": "bzOHl0X5LQ3R"
      },
      "execution_count": 4,
      "outputs": []
    },
    {
      "cell_type": "code",
      "source": [
        "math.ceil(5.8)\n"
      ],
      "metadata": {
        "colab": {
          "base_uri": "https://localhost:8080/"
        },
        "id": "O1tKStZ-LV5c",
        "outputId": "e909bc2b-bfb3-4e7a-bbeb-b0f11d167892"
      },
      "execution_count": 5,
      "outputs": [
        {
          "output_type": "execute_result",
          "data": {
            "text/plain": [
              "6"
            ]
          },
          "metadata": {},
          "execution_count": 5
        }
      ]
    },
    {
      "cell_type": "code",
      "source": [
        "math.floor(22.556)\n"
      ],
      "metadata": {
        "colab": {
          "base_uri": "https://localhost:8080/"
        },
        "id": "6e5aUqd-LZgP",
        "outputId": "64755a79-aa7e-4100-ff77-9406f182d006"
      },
      "execution_count": 6,
      "outputs": [
        {
          "output_type": "execute_result",
          "data": {
            "text/plain": [
              "22"
            ]
          },
          "metadata": {},
          "execution_count": 6
        }
      ]
    },
    {
      "cell_type": "code",
      "source": [
        "math.sqrt(64)\n"
      ],
      "metadata": {
        "colab": {
          "base_uri": "https://localhost:8080/"
        },
        "id": "aHmH560fLbIq",
        "outputId": "1fd10874-adaf-498d-fbd6-89c3409780c3"
      },
      "execution_count": 7,
      "outputs": [
        {
          "output_type": "execute_result",
          "data": {
            "text/plain": [
              "8.0"
            ]
          },
          "metadata": {},
          "execution_count": 7
        }
      ]
    },
    {
      "cell_type": "code",
      "source": [
        "from datetime import datetime\n"
      ],
      "metadata": {
        "id": "22JatbtzLfHQ"
      },
      "execution_count": 8,
      "outputs": []
    },
    {
      "cell_type": "code",
      "source": [
        "now = datetime.now()\n",
        "now\n"
      ],
      "metadata": {
        "colab": {
          "base_uri": "https://localhost:8080/"
        },
        "id": "7G3iuzNiLhbO",
        "outputId": "8b2cb7e7-95d9-4013-f37e-5a3f37100796"
      },
      "execution_count": 12,
      "outputs": [
        {
          "output_type": "execute_result",
          "data": {
            "text/plain": [
              "datetime.datetime(2024, 9, 25, 12, 36, 10, 938705)"
            ]
          },
          "metadata": {},
          "execution_count": 12
        }
      ]
    },
    {
      "cell_type": "code",
      "source": [
        "now.hour\n"
      ],
      "metadata": {
        "colab": {
          "base_uri": "https://localhost:8080/"
        },
        "id": "vD1b5cktLj2m",
        "outputId": "46cc469b-576b-4649-8aaf-cf962ae8dea4"
      },
      "execution_count": 10,
      "outputs": [
        {
          "output_type": "execute_result",
          "data": {
            "text/plain": [
              "12"
            ]
          },
          "metadata": {},
          "execution_count": 10
        }
      ]
    },
    {
      "cell_type": "code",
      "source": [
        "datetime.now()\n"
      ],
      "metadata": {
        "colab": {
          "base_uri": "https://localhost:8080/"
        },
        "id": "cyn5ZCGrLrfe",
        "outputId": "7a61fce4-f099-4a88-cfa8-cf39d3201a11"
      },
      "execution_count": 13,
      "outputs": [
        {
          "output_type": "execute_result",
          "data": {
            "text/plain": [
              "datetime.datetime(2024, 9, 25, 12, 36, 28, 249681)"
            ]
          },
          "metadata": {},
          "execution_count": 13
        }
      ]
    },
    {
      "cell_type": "code",
      "source": [
        "now.strftime(\"%c\")\n"
      ],
      "metadata": {
        "colab": {
          "base_uri": "https://localhost:8080/",
          "height": 36
        },
        "id": "1IY2ArZiLuDx",
        "outputId": "e5479480-39e1-4e38-98b2-bde617f2f54d"
      },
      "execution_count": 14,
      "outputs": [
        {
          "output_type": "execute_result",
          "data": {
            "text/plain": [
              "'Wed Sep 25 12:36:10 2024'"
            ],
            "application/vnd.google.colaboratory.intrinsic+json": {
              "type": "string"
            }
          },
          "metadata": {},
          "execution_count": 14
        }
      ]
    },
    {
      "cell_type": "code",
      "source": [
        "now.time()\n"
      ],
      "metadata": {
        "colab": {
          "base_uri": "https://localhost:8080/"
        },
        "id": "-dTN_U5PLv0i",
        "outputId": "17849cf0-3f50-4594-86d8-a325c96128a7"
      },
      "execution_count": 15,
      "outputs": [
        {
          "output_type": "execute_result",
          "data": {
            "text/plain": [
              "datetime.time(12, 36, 10, 938705)"
            ]
          },
          "metadata": {},
          "execution_count": 15
        }
      ]
    },
    {
      "cell_type": "code",
      "source": [
        "now.strftime(\"%d/%m/%Y, %H:%M:%S\")\n"
      ],
      "metadata": {
        "colab": {
          "base_uri": "https://localhost:8080/",
          "height": 36
        },
        "id": "PQkFCH7wLzSP",
        "outputId": "2cd54065-f8a4-42f1-96af-5f363b0ad259"
      },
      "execution_count": 16,
      "outputs": [
        {
          "output_type": "execute_result",
          "data": {
            "text/plain": [
              "'25/09/2024, 12:36:10'"
            ],
            "application/vnd.google.colaboratory.intrinsic+json": {
              "type": "string"
            }
          },
          "metadata": {},
          "execution_count": 16
        }
      ]
    },
    {
      "cell_type": "code",
      "source": [
        "# datetime\n",
        "# Task 1: Return date time as per indian standard dd/mm/yy\n",
        "# Task 2: Return present hour from system\n",
        "# Task 3: Return day name from system's date (\"%A\") -- return day name"
      ],
      "metadata": {
        "id": "WiuMH8inL4oS"
      },
      "execution_count": 17,
      "outputs": []
    },
    {
      "cell_type": "code",
      "source": [
        "import os\n"
      ],
      "metadata": {
        "id": "AOlAhuiIL9_x"
      },
      "execution_count": 2,
      "outputs": []
    },
    {
      "cell_type": "code",
      "source": [
        "os.path.exists('/content/drive/MyDrive/A relational database is a database.txt')\n"
      ],
      "metadata": {
        "colab": {
          "base_uri": "https://localhost:8080/"
        },
        "id": "TBuY2facMALN",
        "outputId": "33d6db9e-815b-4d30-c39a-d891a8883ad9"
      },
      "execution_count": 4,
      "outputs": [
        {
          "output_type": "execute_result",
          "data": {
            "text/plain": [
              "True"
            ]
          },
          "metadata": {},
          "execution_count": 4
        }
      ]
    },
    {
      "cell_type": "code",
      "source": [
        "os.getcwd()"
      ],
      "metadata": {
        "colab": {
          "base_uri": "https://localhost:8080/",
          "height": 36
        },
        "id": "Um2DQzw3M9aP",
        "outputId": "06843f88-b9ab-48fc-876a-4cd5a5c513b4"
      },
      "execution_count": 5,
      "outputs": [
        {
          "output_type": "execute_result",
          "data": {
            "text/plain": [
              "'/content'"
            ],
            "application/vnd.google.colaboratory.intrinsic+json": {
              "type": "string"
            }
          },
          "metadata": {},
          "execution_count": 5
        }
      ]
    },
    {
      "cell_type": "code",
      "source": [
        "os.mkdir('MyDrive')\n"
      ],
      "metadata": {
        "id": "yHfmNyNHNBFY"
      },
      "execution_count": 6,
      "outputs": []
    },
    {
      "cell_type": "code",
      "source": [
        "# os modules\n",
        "# os.getcwd -- return current working directory\n",
        "# os.listdir() -- return list of all items files in cd\n",
        "# os.mkdir -- create directory if doesn't exist"
      ],
      "metadata": {
        "id": "QHxvbP0gNIvw"
      },
      "execution_count": 9,
      "outputs": []
    },
    {
      "cell_type": "code",
      "source": [
        "import random\n"
      ],
      "metadata": {
        "id": "W0WNHLutNIqQ"
      },
      "execution_count": 10,
      "outputs": []
    },
    {
      "cell_type": "code",
      "source": [
        "random.randint(50, 500)\n"
      ],
      "metadata": {
        "colab": {
          "base_uri": "https://localhost:8080/"
        },
        "id": "gDXB5X6-eqH1",
        "outputId": "f74836d6-92af-46fc-daa9-b9183cb70fad"
      },
      "execution_count": 13,
      "outputs": [
        {
          "output_type": "execute_result",
          "data": {
            "text/plain": [
              "263"
            ]
          },
          "metadata": {},
          "execution_count": 13
        }
      ]
    },
    {
      "cell_type": "code",
      "source": [
        "random.choice(['Apple', 'Banana', 'Cherry'])\n"
      ],
      "metadata": {
        "colab": {
          "base_uri": "https://localhost:8080/",
          "height": 36
        },
        "id": "Wto541ryfCnl",
        "outputId": "2988655e-0819-4579-8c2b-b9818a75e036"
      },
      "execution_count": 14,
      "outputs": [
        {
          "output_type": "execute_result",
          "data": {
            "text/plain": [
              "'Banana'"
            ],
            "application/vnd.google.colaboratory.intrinsic+json": {
              "type": "string"
            }
          },
          "metadata": {},
          "execution_count": 14
        }
      ]
    },
    {
      "cell_type": "code",
      "source": [
        "import time\n"
      ],
      "metadata": {
        "id": "dU6rzo15fFg8"
      },
      "execution_count": 15,
      "outputs": []
    },
    {
      "cell_type": "code",
      "source": [
        "print(\"Hello Python\")\n",
        "time.sleep(3)\n",
        "print(\"Waited 3sec\")"
      ],
      "metadata": {
        "colab": {
          "base_uri": "https://localhost:8080/"
        },
        "id": "RgwrHAtDfIPw",
        "outputId": "45a5c778-4e0e-40f3-af1a-ebe9d9ff82f7"
      },
      "execution_count": 16,
      "outputs": [
        {
          "output_type": "stream",
          "name": "stdout",
          "text": [
            "Hello Python\n",
            "Waited 3sec\n"
          ]
        }
      ]
    },
    {
      "cell_type": "code",
      "source": [
        "# custom modules\n",
        "# from custom import square\n",
        "# square(6)\n",
        "# 36\n",
        "# from custom import add\n",
        "# add(22, 8)\n",
        "# 30"
      ],
      "metadata": {
        "id": "Hm8q88XqfLR4"
      },
      "execution_count": 23,
      "outputs": []
    }
  ]
}