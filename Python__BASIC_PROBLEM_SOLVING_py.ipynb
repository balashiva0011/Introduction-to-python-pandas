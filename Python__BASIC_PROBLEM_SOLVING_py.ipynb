{
  "nbformat": 4,
  "nbformat_minor": 0,
  "metadata": {
    "colab": {
      "provenance": [],
      "authorship_tag": "ABX9TyOt0fiudVl1HDGCq6R0Qncl",
      "include_colab_link": true
    },
    "kernelspec": {
      "name": "python3",
      "display_name": "Python 3"
    },
    "language_info": {
      "name": "python"
    }
  },
  "cells": [
    {
      "cell_type": "markdown",
      "metadata": {
        "id": "view-in-github",
        "colab_type": "text"
      },
      "source": [
        "<a href=\"https://colab.research.google.com/github/balashiva0011/Introduction-to-python-pandas/blob/main/Python__BASIC_PROBLEM_SOLVING_py.ipynb\" target=\"_parent\"><img src=\"https://colab.research.google.com/assets/colab-badge.svg\" alt=\"Open In Colab\"/></a>"
      ]
    },
    {
      "cell_type": "markdown",
      "source": [
        "### Basic python Problem Sloving\n",
        "\n"
      ],
      "metadata": {
        "id": "PxQXvi8b3Uzu"
      }
    },
    {
      "cell_type": "code",
      "execution_count": 1,
      "metadata": {
        "colab": {
          "base_uri": "https://localhost:8080/"
        },
        "id": "F57SrvoZtlOO",
        "outputId": "337f3df2-55ca-4057-d407-02f4294bab7c"
      },
      "outputs": [
        {
          "output_type": "stream",
          "name": "stdout",
          "text": [
            "Enter first number :10\n",
            "Enter second number :15\n",
            "10 + 15 = 25\n"
          ]
        }
      ],
      "source": [
        "# calculator project\n",
        "\n",
        "# Greeting\n",
        "# print(\"Welcome to the addition_calc\")\n",
        "num1 = int(input(\"Enter first number :\") )\n",
        "num2 = int(input(\"Enter second number :\"))\n",
        "\n",
        "result = num1 + num2\n",
        "print(f\"{num1} + {num2} = {result}\")"
      ]
    },
    {
      "cell_type": "code",
      "source": [
        "\n",
        "story = input(\"Please enter story \")\n",
        "\n",
        "# Deleting all extra leading and trailing space\n",
        "clean_story = story.strip()\n",
        "\n",
        "# \"   I my name is john i like to writing python code    \"\n",
        "\n",
        "# converted the string into list\n",
        "store_list = clean_story.split(' ')\n",
        "\n",
        "# counting the number of word\n",
        "result = len(store_list)\n",
        "\n",
        "# displaying the outcome\n",
        "print(f\"The number of count in the store is {result}\")"
      ],
      "metadata": {
        "colab": {
          "base_uri": "https://localhost:8080/"
        },
        "id": "0SUaLAxLtyKn",
        "outputId": "e6dab33c-4526-4cb3-adb6-4c530f31ac45"
      },
      "execution_count": 3,
      "outputs": [
        {
          "output_type": "stream",
          "name": "stdout",
          "text": [
            "Please enter story my name is balashiva\n",
            "The number of count in the store is 4\n"
          ]
        }
      ]
    },
    {
      "cell_type": "code",
      "source": [
        "intems = input(\"Please enter items name separating by commas :\")\n",
        "\n",
        "# item convered into list\n",
        "intems_list = intems.strip().split(',')\n",
        "\n",
        "# print(intems_list)\n",
        "# # type casting\n",
        "intems_unique = set(intems_list)\n",
        "\n",
        "item_unique_list = list(intems_unique)\n",
        "\n",
        "# # Show unique items list\n",
        "print(f\"Thank you for entering items here is your unique list of items {item_unique_list}\")"
      ],
      "metadata": {
        "colab": {
          "base_uri": "https://localhost:8080/"
        },
        "id": "hNNOR1v3ub3g",
        "outputId": "3d092de9-234d-4e99-b4e2-4842241cb215"
      },
      "execution_count": 4,
      "outputs": [
        {
          "output_type": "stream",
          "name": "stdout",
          "text": [
            "Please enter items name separating by commas :patoto, tamato, chilli, sauces, bread, milk, milk, milk, sauces, sauces\n",
            "Thank you for entering items here is your unique list of items [' sauces', ' milk', ' chilli', ' bread', 'patoto', ' tamato']\n"
          ]
        }
      ]
    },
    {
      "cell_type": "code",
      "source": [
        "## Convert a product name to uppercase:\n",
        "#Change the name of the T-shirt product to uppercase using string functions.\n",
        "# convert iPhone to upper case based on key\n",
        "\n",
        "\n",
        "ecommerce_store = {\n",
        "    \"Electronics\": {\n",
        "        101: {\"name\": \"Smartphone\", \"price\": 699.99, \"stock\": 50},\n",
        "        102: {\"name\": \"Laptop\", \"price\": 999.99, \"stock\": 30}\n",
        "    },\n",
        "    \"Clothing\": {\n",
        "        201: {\"name\": \"T-shirt\", \"price\": 19.99, \"stock\": 200},\n",
        "        202: {\"name\": \"Jeans\", \"price\": 39.99, \"stock\": 150}\n",
        "    }\n",
        "}\n",
        "\n",
        "# print(ecommerce_store[\"Electronics\"][102])\n",
        "\n",
        "# new_product = (105, \"iPhone\", 1299, \"stock\": 25)\n",
        "\n",
        "prod_info = input(\"Enter product info sep (,) :\").strip().split(\",\")\n",
        "\n",
        "# data cleaning converting product id to int\n",
        "prod_info[0]= int(prod_info[0])\n",
        "\n",
        "# print(prod_info)\n",
        "new_product = prod_info\n",
        "\n",
        "# 102: {\"name\": \"Laptop\", \"price\": 999.99, \"stock\": 30}\n",
        "# [105,'iPhone','1299','5']\n",
        "# adding new product\n",
        "\n",
        "ecommerce_store[\"Electronics\"][new_product[0]] = {\n",
        "                                                    \"name\":new_product[1].upper(),\n",
        "                                                    \"price\": new_product[2],\n",
        "                                                    \"stock\": new_product[3]}\n",
        "\n",
        "# printing output\n",
        "print(f\"Product added {new_product[1]} successfully also stock updated {new_product[3]}\")\n",
        "print(ecommerce_store)\n",
        "\n",
        "\n"
      ],
      "metadata": {
        "colab": {
          "base_uri": "https://localhost:8080/"
        },
        "id": "LFPmnHyLvKO8",
        "outputId": "4a128767-d69d-4310-81c1-2886d9540e29"
      },
      "execution_count": 25,
      "outputs": [
        {
          "output_type": "stream",
          "name": "stdout",
          "text": [
            "Enter product info sep (,) :105,iphone,1299,25\n",
            "Product added iphone successfully also stock updated 25\n",
            "{'Electronics': {101: {'name': 'Smartphone', 'price': 699.99, 'stock': 50}, 102: {'name': 'Laptop', 'price': 999.99, 'stock': 30}, 105: {'name': 'IPHONE', 'price': '1299', 'stock': '25'}}, 'Clothing': {201: {'name': 'T-shirt', 'price': 19.99, 'stock': 200}, 202: {'name': 'Jeans', 'price': 39.99, 'stock': 150}}}\n"
          ]
        }
      ]
    },
    {
      "cell_type": "code",
      "source": [
        "ecommerce_store[\"Electronics\"][new_product[0]]"
      ],
      "metadata": {
        "colab": {
          "base_uri": "https://localhost:8080/"
        },
        "id": "ojw9ph81w28I",
        "outputId": "d47c4645-5350-4c84-940c-71eddba83edd"
      },
      "execution_count": 26,
      "outputs": [
        {
          "output_type": "execute_result",
          "data": {
            "text/plain": [
              "{'name': 'IPHONE', 'price': '1299', 'stock': '25'}"
            ]
          },
          "metadata": {},
          "execution_count": 26
        }
      ]
    }
  ]
}