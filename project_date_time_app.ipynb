{
  "nbformat": 4,
  "nbformat_minor": 0,
  "metadata": {
    "colab": {
      "provenance": [],
      "authorship_tag": "ABX9TyOO7GfXMPpkjQ0ij60bruui",
      "include_colab_link": true
    },
    "kernelspec": {
      "name": "python3",
      "display_name": "Python 3"
    },
    "language_info": {
      "name": "python"
    }
  },
  "cells": [
    {
      "cell_type": "markdown",
      "metadata": {
        "id": "view-in-github",
        "colab_type": "text"
      },
      "source": [
        "<a href=\"https://colab.research.google.com/github/balashiva0011/Introduction-to-python-pandas/blob/main/project_date_time_app.ipynb\" target=\"_parent\"><img src=\"https://colab.research.google.com/assets/colab-badge.svg\" alt=\"Open In Colab\"/></a>"
      ]
    },
    {
      "cell_type": "markdown",
      "source": [
        "## date_time_trackerapp"
      ],
      "metadata": {
        "id": "697obyWBkY5V"
      }
    },
    {
      "cell_type": "code",
      "execution_count": 1,
      "metadata": {
        "colab": {
          "base_uri": "https://localhost:8080/"
        },
        "id": "Wvu_NbMggS0v",
        "outputId": "09bd0597-07e7-4423-d14b-2a1a891c877b"
      },
      "outputs": [
        {
          "name": "stdout",
          "output_type": "stream",
          "text": [
            "1. Add Expense\n",
            "2. View Expenses\n",
            "3. Exit\n",
            "Choose an option: 1\n",
            "Enter expense description: apple\n",
            "Enter amount: 10\n",
            "1. Add Expense\n",
            "2. View Expenses\n",
            "3. Exit\n",
            "Choose an option: 2\n",
            "Expenses:\n",
            "Description: apple, Amount: 10.0, Date: 2024-09-25 14:08:37\n",
            "1. Add Expense\n",
            "2. View Expenses\n",
            "3. Exit\n",
            "Choose an option: 3\n"
          ]
        }
      ],
      "source": [
        "import os\n",
        "import csv\n",
        "from datetime import datetime\n",
        "\n",
        "def add_expense(description, amount):\n",
        "    with open('expenses.csv', mode='a', newline='') as file:\n",
        "        writer = csv.writer(file)\n",
        "        writer.writerow([description, amount, datetime.now().strftime(\"%Y-%m-%d %H:%M:%S\")])\n",
        "\n",
        "def view_expenses():\n",
        "    if os.path.exists('expenses.csv'):\n",
        "        with open('expenses.csv', mode='r') as file:\n",
        "            reader = csv.reader(file)\n",
        "            print(\"Expenses:\")\n",
        "            for row in reader:\n",
        "                print(f\"Description: {row[0]}, Amount: {row[1]}, Date: {row[2]}\")\n",
        "    else:\n",
        "        print(\"No expenses recorded.\")\n",
        "\n",
        "def main():\n",
        "    while True:\n",
        "        print(\"1. Add Expense\")\n",
        "        print(\"2. View Expenses\")\n",
        "        print(\"3. Exit\")\n",
        "        choice = input(\"Choose an option: \")\n",
        "\n",
        "        if choice == '1':\n",
        "            description = input(\"Enter expense description: \")\n",
        "            amount = float(input(\"Enter amount: \"))\n",
        "            add_expense(description, amount)\n",
        "        elif choice == '2':\n",
        "            view_expenses()\n",
        "        elif choice == '3':\n",
        "            break\n",
        "        else:\n",
        "            print(\"Invalid choice. Please try again.\")\n",
        "\n",
        "if __name__ == \"__main__\":\n",
        "    main()"
      ]
    }
  ]
}